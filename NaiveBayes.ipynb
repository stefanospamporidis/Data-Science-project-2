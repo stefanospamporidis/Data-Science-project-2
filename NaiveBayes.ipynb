{
 "cells": [
  {
   "cell_type": "markdown",
   "metadata": {},
   "source": [
    "#  Naive Bayes \n",
    "\n",
    "Ακολουθεί τη φιλοσοφία της SVM, όπως στις υπόλοιπες έτσι και εδώ λείπει η roc_plot που δε πρόλαβα να κάνω."
   ]
  },
  {
   "cell_type": "code",
   "execution_count": 12,
   "metadata": {},
   "outputs": [],
   "source": [
    "import pandas as pd\n",
    "from sklearn.decomposition import TruncatedSVD\n",
    "from sklearn import datasets\n",
    "from sklearn.model_selection import GridSearchCV\n",
    "from sklearn import preprocessing\n",
    "from sklearn.metrics import accuracy_score,recall_score,f1_score,precision_score\n",
    "from sklearn.feature_extraction.text import ENGLISH_STOP_WORDS\n",
    "from sklearn.feature_extraction.text import CountVectorizer\n",
    "from sklearn.feature_extraction.text import TfidfTransformer\n",
    "from sklearn.model_selection import train_test_split\n",
    "from string import punctuation\n",
    "import matplotlib.pyplot as plt\n",
    "from sklearn.naive_bayes import MultinomialNB\n",
    "from sklearn.pipeline import Pipeline\n",
    "from sklearn.model_selection import cross_val_score\n",
    "from sklearn.model_selection import ShuffleSplit\n",
    "import numpy as np"
   ]
  },
  {
   "cell_type": "code",
   "execution_count": 13,
   "metadata": {},
   "outputs": [],
   "source": [
    "#eisagw ta dedomena gia sugkrisi\n",
    "data = pd.read_csv('data.tsv',sep=\"\\t\")\n",
    "X = data[\"content\"]\n",
    "#allazw ti morfi twn category apo business,tech,politics klp se ari8mous apo to 0-4\n",
    "le = preprocessing.LabelEncoder()\n",
    "le.fit(data[\"category\"])\n",
    "y = le.transform(data[\"category\"])\n",
    "X_train, X_test, y_train, y_test = train_test_split(X, y, test_size=0.2, random_state=42)"
   ]
  },
  {
   "cell_type": "code",
   "execution_count": 14,
   "metadata": {},
   "outputs": [],
   "source": [
    "#Pipelines definition\n",
    "pipeline = Pipeline([ ('vector', CountVectorizer()),('tfidf', TfidfTransformer()),\n",
    "                     ('clf',MultinomialNB(alpha = 0.01))])"
   ]
  },
  {
   "cell_type": "code",
   "execution_count": 15,
   "metadata": {},
   "outputs": [
    {
     "name": "stdout",
     "output_type": "stream",
     "text": [
      "Cross Validation results for Random Forests(RF):\n",
      "Precision: 0.9489781429744746 \n",
      "Recall: 0.9474021415596026 \n",
      "F-Measure: 0.9480633025103561 \n",
      "Accuracy: 0.9493908153701968\n"
     ]
    }
   ],
   "source": [
    "#\"taizw\" to pipeline me ta x_train,y_train\n",
    "pipeline.fit(X_train,y_train)\n",
    "\n",
    "#Predict the test split\n",
    "y_pred = pipeline.predict(X_test)\n",
    "\n",
    "precision = precision_score(y_test, y_pred, average = 'macro')\n",
    "recall = recall_score(y_test,y_pred,average = 'macro')\n",
    "f1 = f1_score(y_test,y_pred,average = 'macro')\n",
    "accuracy = accuracy_score(y_test, y_pred)\n",
    "\n",
    "print('Cross Validation results for Random Forests(RF):'),\n",
    "print('Precision:',precision,'\\nRecall:',recall,'\\nF-Measure:',f1,'\\nAccuracy:',accuracy)"
   ]
  },
  {
   "cell_type": "code",
   "execution_count": 16,
   "metadata": {},
   "outputs": [
    {
     "name": "stdout",
     "output_type": "stream",
     "text": [
      "Cross Validation results for Random Forests(RF):\n",
      "Precision: 0.9521249879240685 \n",
      "Recall: 0.9509578055205019 \n",
      "F-Measure: 0.9513930717359566 \n",
      "Accuracy: 0.9518744142455482\n"
     ]
    }
   ],
   "source": [
    "precision = 0\n",
    "recall = 0\n",
    "f1 = 0\n",
    "accuracy = 0\n",
    "\n",
    "ss = ShuffleSplit(n_splits=10, test_size=0.20, random_state=0)\n",
    "#10-fold cross validation\n",
    "for train,test in ss.split(X, y):\n",
    "    X_train, X_test, y_train, y_test = X[train], X[test], y[train], y[test]\n",
    "\n",
    "    #Train the classifier with the training split\n",
    "    pipeline.fit(X_train,y_train)\n",
    "\n",
    "    #Predict the test split\n",
    "    y_pred = pipeline.predict(X_test)\n",
    "    \n",
    "    precision += precision_score(y_test, y_pred, average = 'macro')\n",
    "    recall += recall_score(y_test,y_pred,average = 'macro')\n",
    "    f1 += f1_score(y_test,y_pred,average = 'macro')\n",
    "    accuracy += accuracy_score(y_test, y_pred)\n",
    "    \n",
    "precision = precision/10\n",
    "recall = recall/10\n",
    "f1 = f1/10\n",
    "accuracy = accuracy/10\n",
    "    \n",
    "print('Cross Validation results for Random Forests(RF):'),\n",
    "print('Precision:',precision,'\\nRecall:',recall,'\\nF-Measure:',f1,'\\nAccuracy:',accuracy)"
   ]
  },
  {
   "cell_type": "code",
   "execution_count": 17,
   "metadata": {},
   "outputs": [],
   "source": [
    "#Bonus NaiveBayes\n",
    "#exw ftiaksei ena updated_dataset pou to exw ka8arisei apo perittes le3eis kai testarw gia auto tous \n",
    "#algori8mous gia na dw poso kaluteri einai i epidosi tous\n",
    "\n",
    "#eisagw ta dedomena gia sugkrisi\n",
    "data = pd.read_csv('updated_data.tsv',sep=\"\\t\")\n",
    "X = data[\"content\"]\n",
    "#allazw ti morfi twn category apo business,tech,politics klp se ari8mous apo to 0-4\n",
    "le = preprocessing.LabelEncoder()\n",
    "le.fit(data[\"category\"])\n",
    "y = le.transform(data[\"category\"])\n",
    "X_train, X_test, y_train, y_test = train_test_split(X, y, test_size=0.2, random_state=42)"
   ]
  },
  {
   "cell_type": "code",
   "execution_count": 18,
   "metadata": {},
   "outputs": [],
   "source": [
    "#Pipelines definition\n",
    "pipeline = Pipeline([ ('vector', CountVectorizer()),('tfidf', TfidfTransformer()),\n",
    "                     ('clf',MultinomialNB(alpha = 0.01))])"
   ]
  },
  {
   "cell_type": "code",
   "execution_count": 19,
   "metadata": {},
   "outputs": [
    {
     "name": "stdout",
     "output_type": "stream",
     "text": [
      "Cross Validation results for Random Forests(RF):\n",
      "Precision: 0.9453249160850768 \n",
      "Recall: 0.9438433645444974 \n",
      "F-Measure: 0.9445076968356508 \n",
      "Accuracy: 0.9456419868791003\n"
     ]
    }
   ],
   "source": [
    "#\"taizw\" to pipeline me ta x_train,y_train\n",
    "pipeline.fit(X_train.values.astype(str),y_train)\n",
    "\n",
    "#Predict the test split\n",
    "y_pred = pipeline.predict(X_test.values.astype(str))\n",
    "\n",
    "precision = precision_score(y_test, y_pred, average = 'macro')\n",
    "recall = recall_score(y_test,y_pred,average = 'macro')\n",
    "f1 = f1_score(y_test,y_pred,average = 'macro')\n",
    "accuracy = accuracy_score(y_test, y_pred)\n",
    "\n",
    "print('Cross Validation results for Random Forests(RF):'),\n",
    "print('Precision:',precision,'\\nRecall:',recall,'\\nF-Measure:',f1,'\\nAccuracy:',accuracy)"
   ]
  },
  {
   "cell_type": "code",
   "execution_count": 20,
   "metadata": {},
   "outputs": [
    {
     "name": "stdout",
     "output_type": "stream",
     "text": [
      "Cross Validation results for Random Forests(RF):\n",
      "Precision: 0.9526180198516375 \n",
      "Recall: 0.9515823251987132 \n",
      "F-Measure: 0.9519512702026331 \n",
      "Accuracy: 0.9524367385192127\n"
     ]
    }
   ],
   "source": [
    "precision = 0\n",
    "recall = 0\n",
    "f1 = 0\n",
    "accuracy = 0\n",
    "\n",
    "ss = ShuffleSplit(n_splits=10, test_size=0.20, random_state=0)\n",
    "#10-fold cross validation\n",
    "for train,test in ss.split(X, y):\n",
    "    X_train, X_test, y_train, y_test = X[train], X[test], y[train], y[test]\n",
    "\n",
    "    #Train the classifier with the training split\n",
    "    pipeline.fit(X_train.values.astype(str),y_train)\n",
    "\n",
    "    #Predict the test split\n",
    "    y_pred = pipeline.predict(X_test.values.astype(str))\n",
    "    \n",
    "    precision += precision_score(y_test, y_pred, average = 'macro')\n",
    "    recall += recall_score(y_test,y_pred,average = 'macro')\n",
    "    f1 += f1_score(y_test,y_pred,average = 'macro')\n",
    "    accuracy += accuracy_score(y_test, y_pred)\n",
    "    \n",
    "precision = precision/10\n",
    "recall = recall/10\n",
    "f1 = f1/10\n",
    "accuracy = accuracy/10\n",
    "    \n",
    "print('Cross Validation results for Random Forests(RF):'),\n",
    "print('Precision:',precision,'\\nRecall:',recall,'\\nF-Measure:',f1,'\\nAccuracy:',accuracy)"
   ]
  },
  {
   "cell_type": "code",
   "execution_count": null,
   "metadata": {},
   "outputs": [],
   "source": []
  }
 ],
 "metadata": {
  "kernelspec": {
   "display_name": "Python 3",
   "language": "python",
   "name": "python3"
  },
  "language_info": {
   "codemirror_mode": {
    "name": "ipython",
    "version": 3
   },
   "file_extension": ".py",
   "mimetype": "text/x-python",
   "name": "python",
   "nbconvert_exporter": "python",
   "pygments_lexer": "ipython3",
   "version": "3.7.6"
  }
 },
 "nbformat": 4,
 "nbformat_minor": 4
}
