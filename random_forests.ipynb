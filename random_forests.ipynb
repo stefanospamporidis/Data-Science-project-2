{
 "cells": [
  {
   "cell_type": "markdown",
   "metadata": {},
   "source": [
    "#  Naive Bayes \n",
    "\n",
    "Ακολουθεί τη φιλοσοφία της SVM, όπως στις υπόλοιπες έτσι και εδώ λείπει η roc_plot που δε πρόλαβα να κάνω."
   ]
  },
  {
   "cell_type": "code",
   "execution_count": 34,
   "metadata": {},
   "outputs": [],
   "source": [
    "import pandas as pd\n",
    "from sklearn.decomposition import TruncatedSVD\n",
    "from sklearn import datasets\n",
    "from sklearn.model_selection import GridSearchCV\n",
    "from sklearn import preprocessing\n",
    "from sklearn.metrics import accuracy_score,recall_score,f1_score,precision_score\n",
    "from sklearn.feature_extraction.text import ENGLISH_STOP_WORDS\n",
    "from sklearn.feature_extraction.text import CountVectorizer\n",
    "from sklearn.feature_extraction.text import TfidfTransformer\n",
    "from sklearn.model_selection import train_test_split\n",
    "from string import punctuation\n",
    "import matplotlib.pyplot as plt\n",
    "from sklearn.ensemble import RandomForestClassifier\n",
    "from sklearn.pipeline import Pipeline\n",
    "from sklearn.model_selection import cross_val_score\n",
    "from sklearn.model_selection import ShuffleSplit\n",
    "import numpy as np"
   ]
  },
  {
   "cell_type": "code",
   "execution_count": 35,
   "metadata": {},
   "outputs": [],
   "source": [
    "#eisagw ta dedomena gia sugkrisi\n",
    "data = pd.read_csv('data.tsv',sep=\"\\t\")\n",
    "X = data[\"content\"]\n",
    "#allazw ti morfi twn category apo business,tech,politics klp se ari8mous apo to 0-4\n",
    "le = preprocessing.LabelEncoder()\n",
    "le.fit(data[\"category\"])\n",
    "y = le.transform(data[\"category\"])\n",
    "X_train, X_test, y_train, y_test = train_test_split(X, y, test_size=0.2, random_state=42)"
   ]
  },
  {
   "cell_type": "code",
   "execution_count": 36,
   "metadata": {},
   "outputs": [],
   "source": [
    "#Pipelines definition\n",
    "pipeline = Pipeline([ ('vector', CountVectorizer()),('tfidf', TfidfTransformer()),\n",
    "                     ('lsi', TruncatedSVD(n_components = 75)) ,\n",
    "                     ('clf',RandomForestClassifier())])"
   ]
  },
  {
   "cell_type": "code",
   "execution_count": 37,
   "metadata": {},
   "outputs": [
    {
     "name": "stdout",
     "output_type": "stream",
     "text": [
      "Cross Validation results for Random Forests(RF):\n",
      "Precision: 0.8719177251504895 \n",
      "Recall: 0.866564059960211 \n",
      "F-Measure: 0.8682471415194171 \n",
      "Accuracy: 0.8716026241799437\n"
     ]
    }
   ],
   "source": [
    "#\"taizw\" to pipeline me ta x_train,y_train\n",
    "pipeline.fit(X_train,y_train)\n",
    "\n",
    "#Predict the test split\n",
    "y_pred = pipeline.predict(X_test)\n",
    "\n",
    "precision = precision_score(y_test, y_pred, average = 'macro')\n",
    "recall = recall_score(y_test,y_pred,average = 'macro')\n",
    "f1 = f1_score(y_test,y_pred,average = 'macro')\n",
    "accuracy = accuracy_score(y_test, y_pred)\n",
    "\n",
    "print('Cross Validation results for Random Forests(RF):'),\n",
    "print('Precision:',precision,'\\nRecall:',recall,'\\nF-Measure:',f1,'\\nAccuracy:',accuracy)"
   ]
  },
  {
   "cell_type": "code",
   "execution_count": 38,
   "metadata": {},
   "outputs": [
    {
     "name": "stdout",
     "output_type": "stream",
     "text": [
      "Cross Validation results for Random Forests(RF):\n",
      "Precision: 0.8688324581634854 \n",
      "Recall: 0.8677451198002359 \n",
      "F-Measure: 0.8678561333295971 \n",
      "Accuracy: 0.8702436738519213\n"
     ]
    }
   ],
   "source": [
    "precision = 0\n",
    "recall = 0\n",
    "f1 = 0\n",
    "accuracy = 0\n",
    "\n",
    "ss = ShuffleSplit(n_splits=10, test_size=0.20, random_state=0)\n",
    "#10-fold cross validation\n",
    "for train,test in ss.split(X, y):\n",
    "    X_train, X_test, y_train, y_test = X[train], X[test], y[train], y[test]\n",
    "\n",
    "    #Train the classifier with the training split\n",
    "    pipeline.fit(X_train,y_train)\n",
    "\n",
    "    #Predict the test split\n",
    "    y_pred = pipeline.predict(X_test)\n",
    "    \n",
    "    precision += precision_score(y_test, y_pred, average = 'macro')\n",
    "    recall += recall_score(y_test,y_pred,average = 'macro')\n",
    "    f1 += f1_score(y_test,y_pred,average = 'macro')\n",
    "    accuracy += accuracy_score(y_test, y_pred)\n",
    "    \n",
    "precision = precision/10\n",
    "recall = recall/10\n",
    "f1 = f1/10\n",
    "accuracy = accuracy/10\n",
    "    \n",
    "print('Cross Validation results for Random Forests(RF):'),\n",
    "print('Precision:',precision,'\\nRecall:',recall,'\\nF-Measure:',f1,'\\nAccuracy:',accuracy)"
   ]
  },
  {
   "cell_type": "code",
   "execution_count": 43,
   "metadata": {},
   "outputs": [],
   "source": [
    "#Bonus random_forests \n",
    "#exw ftiaksei ena updated_dataset pou to exw ka8arisei apo perittes le3eis kai testarw gia auto tous \n",
    "#algori8mous gia na dw poso kaluteri einai i epidosi tous\n",
    "\n",
    "#eisagw ta dedomena gia sugkrisi\n",
    "data = pd.read_csv('updated_data.tsv',sep=\"\\t\")\n",
    "X = data[\"content\"]\n",
    "#allazw ti morfi twn category apo business,tech,politics klp se ari8mous apo to 0-4\n",
    "le = preprocessing.LabelEncoder()\n",
    "le.fit(data[\"category\"])\n",
    "y = le.transform(data[\"category\"])\n",
    "X_train, X_test, y_train, y_test = train_test_split(X, y, test_size=0.2, random_state=42)"
   ]
  },
  {
   "cell_type": "code",
   "execution_count": 44,
   "metadata": {},
   "outputs": [],
   "source": [
    "#Pipelines definition\n",
    "pipeline = Pipeline([ ('vector', CountVectorizer()),('tfidf', TfidfTransformer()),\n",
    "                     ('clf',RandomForestClassifier())])"
   ]
  },
  {
   "cell_type": "code",
   "execution_count": 45,
   "metadata": {},
   "outputs": [
    {
     "name": "stdout",
     "output_type": "stream",
     "text": [
      "Cross Validation results for Random Forests(RF):\n",
      "Precision: 0.8990747111616679 \n",
      "Recall: 0.8892785096228287 \n",
      "F-Measure: 0.89224848699585 \n",
      "Accuracy: 0.8936269915651359\n"
     ]
    }
   ],
   "source": [
    "#\"taizw\" to pipeline me ta x_train,y_train\n",
    "pipeline.fit(X_train.values.astype(str),y_train)\n",
    "\n",
    "#Predict the test split\n",
    "y_pred = pipeline.predict(X_test.values.astype(str))\n",
    "\n",
    "precision = precision_score(y_test, y_pred, average = 'macro')\n",
    "recall = recall_score(y_test,y_pred,average = 'macro')\n",
    "f1 = f1_score(y_test,y_pred,average = 'macro')\n",
    "accuracy = accuracy_score(y_test, y_pred)\n",
    "\n",
    "print('Cross Validation results for Random Forests(RF):'),\n",
    "print('Precision:',precision,'\\nRecall:',recall,'\\nF-Measure:',f1,'\\nAccuracy:',accuracy)"
   ]
  },
  {
   "cell_type": "code",
   "execution_count": 46,
   "metadata": {},
   "outputs": [
    {
     "name": "stdout",
     "output_type": "stream",
     "text": [
      "Cross Validation results for Random Forests(RF):\n",
      "Precision: 0.9060498844919064 \n",
      "Recall: 0.8980295606638322 \n",
      "F-Measure: 0.9002760653176987 \n",
      "Accuracy: 0.9008434864104966\n"
     ]
    }
   ],
   "source": [
    "precision = 0\n",
    "recall = 0\n",
    "f1 = 0\n",
    "accuracy = 0\n",
    "\n",
    "ss = ShuffleSplit(n_splits=10, test_size=0.20, random_state=0)\n",
    "#10-fold cross validation\n",
    "for train,test in ss.split(X, y):\n",
    "    X_train, X_test, y_train, y_test = X[train], X[test], y[train], y[test]\n",
    "\n",
    "    #Train the classifier with the training split\n",
    "    pipeline.fit(X_train.values.astype(str),y_train)\n",
    "\n",
    "    #Predict the test split\n",
    "    y_pred = pipeline.predict(X_test.values.astype(str))\n",
    "    \n",
    "    precision += precision_score(y_test, y_pred, average = 'macro')\n",
    "    recall += recall_score(y_test,y_pred,average = 'macro')\n",
    "    f1 += f1_score(y_test,y_pred,average = 'macro')\n",
    "    accuracy += accuracy_score(y_test, y_pred)\n",
    "    \n",
    "precision = precision/10\n",
    "recall = recall/10\n",
    "f1 = f1/10\n",
    "accuracy = accuracy/10\n",
    "    \n",
    "print('Cross Validation results for Random Forests(RF):'),\n",
    "print('Precision:',precision,'\\nRecall:',recall,'\\nF-Measure:',f1,'\\nAccuracy:',accuracy)"
   ]
  },
  {
   "cell_type": "code",
   "execution_count": null,
   "metadata": {},
   "outputs": [],
   "source": []
  }
 ],
 "metadata": {
  "kernelspec": {
   "display_name": "Python 3",
   "language": "python",
   "name": "python3"
  },
  "language_info": {
   "codemirror_mode": {
    "name": "ipython",
    "version": 3
   },
   "file_extension": ".py",
   "mimetype": "text/x-python",
   "name": "python",
   "nbconvert_exporter": "python",
   "pygments_lexer": "ipython3",
   "version": "3.7.6"
  }
 },
 "nbformat": 4,
 "nbformat_minor": 4
}
