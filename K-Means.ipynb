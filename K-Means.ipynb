{
 "cells": [
  {
   "cell_type": "markdown",
   "metadata": {},
   "source": [
    "# K-Means για TfidfVectorizer\n",
    "\n",
    "Όπως αναφέρεται και σε αυτή τη πηγή https://stats.stackexchange.com/questions/299013/cosine-distance-as-similarity-measure-in-kmeans?fbclid=IwAR0RTJxVgh3_q39XGpEeNRzY37lyXsdcOmQTwmFPMn96y4n_OBhnEmwS1rw αν κάνουμε normalize το \n",
    "αποτέλεσμα που δίνει ο TfidfVectorizer τότε η KMeans της sklearn λειτουργεί ακριβώς όπως θα λειτουργόυσε στη \n",
    "περίπτωση που εκτελούνταν με cosine_distance αντί για euclidean_distance. Θα μπορούσα να χρησιμοποιήσω και \n",
    "την KMeansClusterer και να το κάνω έτσι, όμως ήθελα να πειραμαστιστώ λίγο με τις μεθόσους. Επίσης η KMeansClusterer\n",
    "είναι αρκετά πιο αργή απο την KMeans της sklearn για μεγάλα δεδομένα."
   ]
  },
  {
   "cell_type": "code",
   "execution_count": 8,
   "metadata": {},
   "outputs": [],
   "source": [
    "import pandas as pd\n",
    "from sklearn.decomposition import TruncatedSVD\n",
    "from sklearn import datasets\n",
    "from sklearn.model_selection import GridSearchCV\n",
    "from sklearn import preprocessing\n",
    "from sklearn.metrics import accuracy_score,recall_score,f1_score,precision_score\n",
    "from sklearn.feature_extraction.text import ENGLISH_STOP_WORDS\n",
    "from sklearn.feature_extraction.text import CountVectorizer\n",
    "from sklearn.feature_extraction.text import TfidfVectorizer\n",
    "from sklearn.feature_extraction.text import TfidfTransformer\n",
    "from sklearn.model_selection import train_test_split\n",
    "from sklearn.cluster import KMeans\n",
    "from string import punctuation\n",
    "import matplotlib.pyplot as plt\n",
    "from sklearn.pipeline import Pipeline\n",
    "from sklearn.model_selection import cross_val_score\n",
    "from sklearn.model_selection import ShuffleSplit\n",
    "import numpy as np\n",
    "import scipy\n",
    "from nltk.corpus import stopwords\n",
    "from sklearn.preprocessing import normalize\n",
    "\n",
    "\n",
    "my_stopwords = set(stopwords.words('english'))\n",
    "other_words = {'said','say','says','just','did','was','were','year','years','like','people','tell','tells'\n",
    "               'told','report','reported','get','also','however','already','may','almost','hes','ask','would',\n",
    "              'could','one'}\n",
    "my_stopwords = my_stopwords.union(other_words)"
   ]
  },
  {
   "cell_type": "code",
   "execution_count": 11,
   "metadata": {},
   "outputs": [],
   "source": [
    "#eisagw ta dedomena gia sugkrisi\n",
    "data = pd.read_csv('updated_data.tsv',sep=\"\\t\",encoding='utf-8')\n",
    "X = data[\"content\"]\n",
    "#allazw ti morfi twn category apo business,tech,politics klp se ari8mous apo to 0-4\n",
    "le = preprocessing.LabelEncoder()\n",
    "le.fit(data[\"category\"])\n",
    "y = le.transform(data[\"category\"])\n",
    "X_train, X_test, y_train, y_test = train_test_split(X, y, test_size=0.2, random_state=42)"
   ]
  },
  {
   "cell_type": "code",
   "execution_count": 13,
   "metadata": {},
   "outputs": [
    {
     "data": {
      "text/plain": [
       "(8533, 30833)"
      ]
     },
     "execution_count": 13,
     "metadata": {},
     "output_type": "execute_result"
    }
   ],
   "source": [
    "import pandas as pd\n",
    "from sklearn.cluster import KMeans\n",
    "from sklearn.feature_extraction.text import TfidfVectorizer\n",
    "\n",
    "\n",
    "x = TfidfVectorizer().fit_transform(X_train.values.astype('U'))\n",
    "x = normalize(x)\n",
    "X_plot = x.toarray()\n",
    "X_plot.shape"
   ]
  },
  {
   "cell_type": "code",
   "execution_count": 14,
   "metadata": {},
   "outputs": [],
   "source": [
    "%matplotlib inline\n",
    "import matplotlib.pyplot as plt\n",
    "import seaborn as sns; sns.set()  # for plot styling\n",
    "import numpy as np"
   ]
  },
  {
   "cell_type": "code",
   "execution_count": 15,
   "metadata": {},
   "outputs": [],
   "source": [
    "from sklearn.decomposition import PCA\n",
    "\n",
    "pca = PCA(n_components=2).fit(X_plot)\n",
    "pca_2d = pca.transform(X_plot)"
   ]
  },
  {
   "cell_type": "code",
   "execution_count": 17,
   "metadata": {},
   "outputs": [
    {
     "data": {
      "image/png": "[encoded data removed]",
      "text/plain": [
       "<Figure size 432x288 with 1 Axes>"
      ]
     },
     "metadata": {},
     "output_type": "display_data"
    }
   ],
   "source": [
    "kmeans = KMeans(n_clusters=5)\n",
    "kmeans.fit(x)\n",
    "clusters = kmeans.predict(x)\n",
    "\n",
    "for i in range(0, pca_2d.shape[0]):\n",
    "    if clusters[i] == 0:\n",
    "        c1 = pl.scatter(pca_2d[i,0],pca_2d[i,1],c='red')\n",
    "    elif clusters[i] == 1:\n",
    "        c2 = pl.scatter(pca_2d[i,0],pca_2d[i,1],c='green')\n",
    "    elif clusters[i] == 2:\n",
    "        c3 = pl.scatter(pca_2d[i,0],pca_2d[i,1],c='blue')\n",
    "    elif clusters[i] == 3:\n",
    "        c4 = pl.scatter(pca_2d[i,0],pca_2d[i,1],c='yellow')\n",
    "    elif clusters[i] == 4:\n",
    "        c5 = pl.scatter(pca_2d[i,0],pca_2d[i,1],c='orange')\n",
    "        \n",
    "pl.legend([c1, c2, c3, c4 ,c5], ['business', 'entertainment','politics','sport','tech'])\n",
    "pl.title('Iris dataset with 5 clusters and known outcomes')\n",
    "pl.show()"
   ]
  },
  {
   "cell_type": "code",
   "execution_count": null,
   "metadata": {},
   "outputs": [],
   "source": []
  }
 ],
 "metadata": {
  "kernelspec": {
   "display_name": "Python 3",
   "language": "python",
   "name": "python3"
  },
  "language_info": {
   "codemirror_mode": {
    "name": "ipython",
    "version": 3
   },
   "file_extension": ".py",
   "mimetype": "text/x-python",
   "name": "python",
   "nbconvert_exporter": "python",
   "pygments_lexer": "ipython3",
   "version": "3.7.6"
  }
 },
 "nbformat": 4,
 "nbformat_minor": 4
}
