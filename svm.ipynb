{
 "cells": [
  {
   "cell_type": "markdown",
   "metadata": {},
   "source": [
    "#  Support Vector Machines (SVM)\n",
    "\n",
    "Δεν περιέχεται η roc_plot. Έχε γίνει και το Bonus, βρίσκεται στο τελευταίο μέρος του notebook."
   ]
  },
  {
   "cell_type": "code",
   "execution_count": 20,
   "metadata": {},
   "outputs": [],
   "source": [
    "import pandas as pd\n",
    "from sklearn.decomposition import TruncatedSVD\n",
    "from sklearn import datasets\n",
    "from sklearn.model_selection import GridSearchCV\n",
    "from sklearn import preprocessing\n",
    "from sklearn.metrics import accuracy_score,recall_score,f1_score,precision_score\n",
    "from sklearn.feature_extraction.text import ENGLISH_STOP_WORDS\n",
    "from sklearn.feature_extraction.text import CountVectorizer\n",
    "from sklearn.feature_extraction.text import TfidfTransformer\n",
    "from sklearn.model_selection import train_test_split\n",
    "from string import punctuation\n",
    "import matplotlib.pyplot as plt\n",
    "from sklearn import svm\n",
    "from sklearn.pipeline import Pipeline\n",
    "from sklearn.model_selection import cross_val_score\n",
    "from sklearn.model_selection import ShuffleSplit\n",
    "import numpy as np\n",
    "from itertools import cycle\n",
    "from sklearn.metrics import roc_curve, auc"
   ]
  },
  {
   "cell_type": "code",
   "execution_count": 3,
   "metadata": {},
   "outputs": [],
   "source": [
    "#eisagw ta dedomena gia sugkrisi\n",
    "data = pd.read_csv('data.tsv',sep=\"\\t\")\n",
    "X = data[\"content\"]\n",
    "#allazw ti morfi twn category apo business,tech,politics klp se ari8mous apo to 0-4\n",
    "le = preprocessing.LabelEncoder()\n",
    "le.fit(data[\"category\"])\n",
    "y = le.transform(data[\"category\"])\n",
    "X_train, X_test, y_train, y_test = train_test_split(X, y, test_size=0.2, random_state=42)"
   ]
  },
  {
   "cell_type": "code",
   "execution_count": 22,
   "metadata": {},
   "outputs": [],
   "source": [
    "#Pipelines definition\n",
    "pipeline1 = Pipeline([ ('vector', CountVectorizer()),('tfidf', TfidfTransformer()),\n",
    "                     ('lsi', TruncatedSVD(n_components = 500)) ,\n",
    "                     ('clf', svm.SVC(kernel='linear', random_state = 42, probability=True))])\n",
    "#xrisimopoiw random state 42 giati ti prwti fora pou 8a to tre3ete kai eseis kai egw 8a paroume ta \n",
    "#idia apotelesmata afinw apo katw kai tin pigi pou to vrika \n",
    "#https://stackoverflow.com/questions/28064634/random-state-pseudo-random-number-in-scikit-learn\n",
    "pipeline2 = Pipeline([ ('vector', CountVectorizer()),('tfidf', TfidfTransformer()),\n",
    "                     ('lsi', TruncatedSVD(n_components = 500)) ,\n",
    "                     ('clf', svm.SVC(kernel='rbf', random_state = 42, probability=True))])"
   ]
  },
  {
   "cell_type": "code",
   "execution_count": 5,
   "metadata": {},
   "outputs": [
    {
     "name": "stdout",
     "output_type": "stream",
     "text": [
      "Cross Validation results for Support Vector Machines (SVM):\n",
      "Precision: 0.9160029870341662 \n",
      "Recall: 0.9102079869885704 \n",
      "F-Measure: 0.9122251532050095 \n",
      "Accuracy: 0.9137769447047798\n"
     ]
    }
   ],
   "source": [
    "#\"taizw\" to pipeline me ta x_train,y_train\n",
    "pipeline1.fit(X_train,y_train)\n",
    "\n",
    "#Predict the test split\n",
    "y_pred = pipeline1.predict(X_test)\n",
    "\n",
    "precision = precision_score(y_test, y_pred, average = 'macro')\n",
    "recall = recall_score(y_test,y_pred,average = 'macro')\n",
    "f1 = f1_score(y_test,y_pred,average = 'macro')\n",
    "accuracy = accuracy_score(y_test, y_pred)\n",
    "\n",
    "print('Cross Validation results for Support Vector Machines (SVM):'),\n",
    "print('Precision:',precision,'\\nRecall:',recall,'\\nF-Measure:',f1,'\\nAccuracy:',accuracy)"
   ]
  },
  {
   "cell_type": "code",
   "execution_count": 6,
   "metadata": {},
   "outputs": [
    {
     "name": "stdout",
     "output_type": "stream",
     "text": [
      "Cross Validation results for Support Vector Machines (SVM):\n",
      "Precision: 0.9318268587009195 \n",
      "Recall: 0.93054335210764 \n",
      "F-Measure: 0.9311058732481412 \n",
      "Accuracy: 0.9325210871602624\n"
     ]
    }
   ],
   "source": [
    "#\"taizw\" to pipeline me ta x_train,y_train\n",
    "pipeline2.fit(X_train,y_train)\n",
    "\n",
    "#Predict the test split\n",
    "y_pred = pipeline2.predict(X_test)\n",
    "\n",
    "accuracy_score(y_test, y_pred)\n",
    "\n",
    "precision = precision_score(y_test, y_pred, average = 'macro')\n",
    "recall = recall_score(y_test,y_pred,average = 'macro')\n",
    "f1 = f1_score(y_test,y_pred,average = 'macro')\n",
    "accuracy = accuracy_score(y_test, y_pred)\n",
    "\n",
    "print('Cross Validation results for Support Vector Machines (SVM):'),\n",
    "print('Precision:',precision,'\\nRecall:',recall,'\\nF-Measure:',f1,'\\nAccuracy:',accuracy)"
   ]
  },
  {
   "cell_type": "code",
   "execution_count": 13,
   "metadata": {},
   "outputs": [
    {
     "name": "stdout",
     "output_type": "stream",
     "text": [
      "Cross Validation results for Support Vector Machines (SVM):\n",
      "Precision: 0.9394579952663197 \n",
      "Recall: 0.9396990720927244 \n",
      "F-Measure: 0.9394014325031254 \n",
      "Accuracy: 0.9403467666354265\n"
     ]
    }
   ],
   "source": [
    "precision = 0\n",
    "recall = 0\n",
    "f1 = 0\n",
    "accuracy = 0\n",
    "\n",
    "ss = ShuffleSplit(n_splits=10, test_size=0.20, random_state=0)\n",
    "#10-fold cross validation\n",
    "for train,test in ss.split(X, y):\n",
    "    X_train, X_test, y_train, y_test = X[train], X[test], y[train], y[test]\n",
    "\n",
    "    #Train the classifier with the training split\n",
    "    pipeline2.fit(X_train,y_train)\n",
    "\n",
    "    #Predict the test split\n",
    "    y_pred = pipeline2.predict(X_test)\n",
    "    \n",
    "    precision += precision_score(y_test, y_pred, average = 'macro')\n",
    "    recall += recall_score(y_test,y_pred,average = 'macro')\n",
    "    f1 += f1_score(y_test,y_pred,average = 'macro')\n",
    "    accuracy += accuracy_score(y_test, y_pred)\n",
    "    \n",
    "precision = precision/10\n",
    "recall = recall/10\n",
    "f1 = f1/10\n",
    "accuracy = accuracy/10\n",
    "    \n",
    "print('Cross Validation results for Support Vector Machines (SVM):'),\n",
    "print('Precision:',precision,'\\nRecall:',recall,'\\nF-Measure:',f1,'\\nAccuracy:',accuracy)"
   ]
  },
  {
   "cell_type": "markdown",
   "metadata": {},
   "source": [
    "# Bonus section"
   ]
  },
  {
   "cell_type": "code",
   "execution_count": 29,
   "metadata": {},
   "outputs": [],
   "source": [
    "#Bonus SVM \n",
    "#exw ftiaksei ena updated_dataset pou to exw ka8arisei apo perittes le3eis kai testarw gia auto tous \n",
    "#algori8mous gia na dw poso kaluteri einai i epidosi tous\n",
    "\n",
    "#eisagw ta dedomena gia sugkrisi\n",
    "data = pd.read_csv('updated_data.tsv',sep=\"\\t\")\n",
    "X = data[\"content\"]\n",
    "#allazw ti morfi twn category apo business,tech,politics klp se ari8mous apo to 0-4\n",
    "le = preprocessing.LabelEncoder()\n",
    "le.fit(data[\"category\"])\n",
    "y = le.transform(data[\"category\"])\n",
    "X_train, X_test, y_train, y_test = train_test_split(X, y, test_size=0.2, random_state=42)"
   ]
  },
  {
   "cell_type": "code",
   "execution_count": 36,
   "metadata": {},
   "outputs": [],
   "source": [
    "#Pipelines definition\n",
    "pipeline1 = Pipeline([ ('vector', CountVectorizer()),('tfidf', TfidfTransformer()),\n",
    "                     ('clf', svm.SVC(kernel='linear', random_state = 42))])\n",
    "#xrisimopoiw random state 42 giati ti prwti fora pou 8a to tre3ete kai eseis kai egw 8a paroume ta \n",
    "#idia apotelesmata afinw apo katw kai tin pigi pou to vrika \n",
    "#https://stackoverflow.com/questions/28064634/random-state-pseudo-random-number-in-scikit-learn\n",
    "pipeline2 = Pipeline([ ('vector', CountVectorizer()),('tfidf', TfidfTransformer()),\n",
    "                     ('clf', svm.SVC(kernel='rbf', random_state = 42))])"
   ]
  },
  {
   "cell_type": "code",
   "execution_count": 37,
   "metadata": {},
   "outputs": [
    {
     "name": "stdout",
     "output_type": "stream",
     "text": [
      "Cross Validation results for Support Vector Machines (SVM):\n",
      "Precision: 0.9521407913114851 \n",
      "Recall: 0.9492701392359061 \n",
      "F-Measure: 0.9503995794077376 \n",
      "Accuracy: 0.950796626054358\n"
     ]
    }
   ],
   "source": [
    "#\"taizw\" to pipeline me ta x_train,y_train\n",
    "pipeline1.fit(X_train.values.astype(str),y_train)\n",
    "\n",
    "#Predict the test split\n",
    "y_pred = pipeline1.predict(X_test.values.astype(str))\n",
    "\n",
    "precision = precision_score(y_test, y_pred, average = 'macro')\n",
    "recall = recall_score(y_test,y_pred,average = 'macro')\n",
    "f1 = f1_score(y_test,y_pred,average = 'macro')\n",
    "accuracy = accuracy_score(y_test, y_pred)\n",
    "\n",
    "print('Cross Validation results for Support Vector Machines (SVM):'),\n",
    "print('Precision:',precision,'\\nRecall:',recall,'\\nF-Measure:',f1,'\\nAccuracy:',accuracy)"
   ]
  },
  {
   "cell_type": "code",
   "execution_count": 40,
   "metadata": {},
   "outputs": [
    {
     "name": "stdout",
     "output_type": "stream",
     "text": [
      "Cross Validation results for Support Vector Machines (SVM):\n",
      "Precision: 0.9542197797541732 \n",
      "Recall: 0.953295501900594 \n",
      "F-Measure: 0.9536120189746787 \n",
      "Accuracy: 0.9538894095595127\n"
     ]
    }
   ],
   "source": [
    "precision = 0\n",
    "recall = 0\n",
    "f1 = 0\n",
    "accuracy = 0\n",
    "\n",
    "ss = ShuffleSplit(n_splits=10, test_size=0.20, random_state=0)\n",
    "#10-fold cross validation\n",
    "for train,test in ss.split(X, y):\n",
    "    X_train, X_test, y_train, y_test = X[train], X[test], y[train], y[test]\n",
    "\n",
    "    #Train the classifier with the training split\n",
    "    pipeline1.fit(X_train.values.astype(str),y_train)\n",
    "\n",
    "    #Predict the test split\n",
    "    y_pred = pipeline1.predict(X_test.values.astype(str))\n",
    "    \n",
    "    precision += precision_score(y_test, y_pred, average = 'macro')\n",
    "    recall += recall_score(y_test,y_pred,average = 'macro')\n",
    "    f1 += f1_score(y_test,y_pred,average = 'macro')\n",
    "    accuracy += accuracy_score(y_test, y_pred)\n",
    "    \n",
    "precision = precision/10\n",
    "recall = recall/10\n",
    "f1 = f1/10\n",
    "accuracy = accuracy/10\n",
    "    \n",
    "print('Cross Validation results for Support Vector Machines (SVM):'),\n",
    "print('Precision:',precision,'\\nRecall:',recall,'\\nF-Measure:',f1,'\\nAccuracy:',accuracy)"
   ]
  },
  {
   "cell_type": "code",
   "execution_count": null,
   "metadata": {},
   "outputs": [],
   "source": []
  }
 ],
 "metadata": {
  "kernelspec": {
   "display_name": "Python 3",
   "language": "python",
   "name": "python3"
  },
  "language_info": {
   "codemirror_mode": {
    "name": "ipython",
    "version": 3
   },
   "file_extension": ".py",
   "mimetype": "text/x-python",
   "name": "python",
   "nbconvert_exporter": "python",
   "pygments_lexer": "ipython3",
   "version": "3.7.6"
  }
 },
 "nbformat": 4,
 "nbformat_minor": 4
}
