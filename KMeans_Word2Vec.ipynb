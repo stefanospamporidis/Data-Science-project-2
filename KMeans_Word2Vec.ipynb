{
 "cells": [
  {
   "cell_type": "markdown",
   "metadata": {},
   "source": [
    "# K-Means για TfidfVectorizer"
   ]
  },
  {
   "cell_type": "code",
   "execution_count": 55,
   "metadata": {},
   "outputs": [],
   "source": [
    "import pandas as pd\n",
    "from sklearn.decomposition import TruncatedSVD\n",
    "from sklearn import datasets\n",
    "from sklearn.model_selection import GridSearchCV\n",
    "from sklearn import preprocessing\n",
    "from sklearn.metrics import accuracy_score,recall_score,f1_score,precision_score\n",
    "from sklearn.feature_extraction.text import ENGLISH_STOP_WORDS\n",
    "from sklearn.feature_extraction.text import CountVectorizer\n",
    "from sklearn.feature_extraction.text import TfidfVectorizer\n",
    "from sklearn.feature_extraction.text import TfidfTransformer\n",
    "from sklearn.model_selection import train_test_split\n",
    "from sklearn.cluster import KMeans\n",
    "from string import punctuation\n",
    "import matplotlib.pyplot as plt\n",
    "from sklearn.pipeline import Pipeline\n",
    "from sklearn.model_selection import cross_val_score\n",
    "from sklearn.model_selection import ShuffleSplit\n",
    "import numpy as np\n",
    "import scipy\n",
    "from nltk.corpus import stopwords\n",
    "from sklearn.preprocessing import normalize\n",
    "\n",
    "# Set figure size a bit bigger than default so everything is easily red\n",
    "plt.rcParams[\"figure.figsize\"] = (11, 7)"
   ]
  },
  {
   "cell_type": "code",
   "execution_count": 56,
   "metadata": {},
   "outputs": [],
   "source": [
    "#eisagw ta dedomena gia sugkrisi\n",
    "data = pd.read_csv('updated_data.tsv',sep=\"\\t\",encoding='utf-8')\n",
    "X = data[\"content\"]\n",
    "#allazw ti morfi twn category apo business,tech,politics klp se ari8mous apo to 0-4\n",
    "le = preprocessing.LabelEncoder()\n",
    "le.fit(data[\"category\"])\n",
    "y = le.transform(data[\"category\"])\n",
    "X_train, X_test, y_train, y_test = train_test_split(X, y, test_size=0.2, random_state=42)"
   ]
  },
  {
   "cell_type": "code",
   "execution_count": 67,
   "metadata": {},
   "outputs": [],
   "source": [
    "import pandas as pd\n",
    "import gensim\n",
    "\n",
    "# Word2Vec \n",
    "tokenized_X_train = [ (str(article)).split() for article in X_train ]"
   ]
  },
  {
   "cell_type": "code",
   "execution_count": 68,
   "metadata": {},
   "outputs": [
    {
     "data": {
      "text/plain": [
       "(3538268, 3682970)"
      ]
     },
     "execution_count": 68,
     "metadata": {},
     "output_type": "execute_result"
    }
   ],
   "source": [
    "# train the w2vec model with the words from both the training and test sets\n",
    "model = gensim.models.Word2Vec (tokenized_X_train, size=150, window=10, min_count=2, workers=10)\n",
    "model.train(tokenized_X_train,total_examples=len(tokenized_X_train),epochs=10)"
   ]
  },
  {
   "cell_type": "code",
   "execution_count": 69,
   "metadata": {},
   "outputs": [
    {
     "data": {
      "text/plain": [
       "[('bert', 0.8856576681137085),\n",
       " ('w', 0.866936445236206),\n",
       " ('bush', 0.863359272480011),\n",
       " ('ministrys', 0.8292883634567261),\n",
       " ('putin', 0.8241482973098755),\n",
       " ('deputy', 0.8170360326766968)]"
      ]
     },
     "execution_count": 69,
     "metadata": {},
     "output_type": "execute_result"
    }
   ],
   "source": [
    "# look up top 6 words similar to 'polite'\n",
    "w1 = [\"president\"]\n",
    "model.wv.most_similar (positive=w1,topn=6)"
   ]
  },
  {
   "cell_type": "code",
   "execution_count": 70,
   "metadata": {},
   "outputs": [
    {
     "name": "stderr",
     "output_type": "stream",
     "text": [
      "C:\\Users\\user\\anaconda3\\lib\\site-packages\\ipykernel_launcher.py:13: DeprecationWarning: Call to deprecated `__getitem__` (Method will be removed in 4.0.0, use self.wv.__getitem__() instead).\n",
      "  del sys.path[0]\n"
     ]
    }
   ],
   "source": [
    "from gensim.models import Word2Vec\n",
    " \n",
    "from nltk.cluster import KMeansClusterer\n",
    "import nltk\n",
    " \n",
    "from sklearn import cluster\n",
    "from sklearn import metrics\n",
    "\n",
    "# training model\n",
    "model = Word2Vec(tokenized_X_train, size=150, window=10, min_count=2, workers=10)\n",
    " \n",
    "# get vector data\n",
    "X = model[model.wv.vocab]\n",
    "#print (X)\n",
    " \n",
    "#print (model.similarity('post', 'book'))\n",
    " \n",
    "#print (model.most_similar(positive=['machine'], negative=[], topn=2))\n",
    " \n",
    "#print (list(model.wv.vocab))\n",
    " \n",
    "#print (len(list(model.wv.vocab)))"
   ]
  },
  {
   "cell_type": "code",
   "execution_count": 72,
   "metadata": {},
   "outputs": [],
   "source": [
    "NUM_CLUSTERS=5\n",
    "kclusterer = KMeansClusterer(NUM_CLUSTERS, distance=nltk.cluster.util.cosine_distance, repeats=25)\n",
    "assigned_clusters = kclusterer.cluster(X, assign_clusters=True)\n",
    "#print (assigned_clusters)\n",
    " \n",
    "words = list(model.wv.vocab)\n",
    "#for i, word in enumerate(words):  \n",
    "    #print (word + \":\" + str(assigned_clusters[i]))\n",
    " \n",
    " \n",
    "kmeans = cluster.KMeans(n_clusters=NUM_CLUSTERS)\n",
    "kmeans.fit(X)\n",
    " \n",
    "labels = kmeans.labels_\n",
    "centroids = kmeans.cluster_centers_\n",
    " \n",
    "#print (\"Cluster id labels for inputted data\")\n",
    "#print (labels)\n",
    "#print (\"Centroids data\")\n",
    "#print (centroids)\n",
    " \n",
    "#print (\"Score (Opposite of the value of X on the K-means objective which is Sum of distances of samples to their closest cluster center):\")\n",
    "#print (kmeans.score(X))\n",
    " \n",
    "#silhouette_score = metrics.silhouette_score(X, labels, metric='euclidean')\n",
    " \n",
    "#print (\"Silhouette_score: \")\n",
    "#print (silhouette_score)"
   ]
  },
  {
   "cell_type": "code",
   "execution_count": 86,
   "metadata": {},
   "outputs": [
    {
     "data": {
      "image/png": "[encoded data removed]",
      "text/plain": [
       "<Figure size 432x288 with 1 Axes>"
      ]
     },
     "metadata": {},
     "output_type": "display_data"
    }
   ],
   "source": [
    "%matplotlib inline\n",
    "import matplotlib.pyplot as plt\n",
    "import seaborn as sns; sns.set()  # for plot styling\n",
    "import numpy as np\n",
    "import pylab as pl\n",
    "from sklearn.decomposition import PCA\n",
    "\n",
    "pca = PCA(n_components=2).fit(X)\n",
    "pca_2d = pca.transform(X)\n",
    "X.shape\n",
    "\n",
    "for i in range(0, pca_2d.shape[0]):\n",
    "    if labels[i] == 0:\n",
    "        c1 = pl.scatter(pca_2d[i,0],pca_2d[i,1],c='red')\n",
    "    elif labels[i] == 1:\n",
    "        c2 = pl.scatter(pca_2d[i,0],pca_2d[i,1],c='green')\n",
    "    elif labels[i] == 2:\n",
    "        c3 = pl.scatter(pca_2d[i,0],pca_2d[i,1],c='blue')\n",
    "    elif labels[i] == 3:\n",
    "        c4 = pl.scatter(pca_2d[i,0],pca_2d[i,1],c='yellow')\n",
    "    elif labels[i] == 4:\n",
    "        c5 = pl.scatter(pca_2d[i,0],pca_2d[i,1],c='orange')\n",
    "        \n",
    "pl.legend([c1, c2, c3, c4 ,c5], ['business', 'entertainment','politics','sport','tech'])\n",
    "pl.title('Iris dataset with 5 clusters and known outcomes')\n",
    "pl.show()"
   ]
  },
  {
   "cell_type": "code",
   "execution_count": null,
   "metadata": {},
   "outputs": [],
   "source": []
  }
 ],
 "metadata": {
  "kernelspec": {
   "display_name": "Python 3",
   "language": "python",
   "name": "python3"
  },
  "language_info": {
   "codemirror_mode": {
    "name": "ipython",
    "version": 3
   },
   "file_extension": ".py",
   "mimetype": "text/x-python",
   "name": "python",
   "nbconvert_exporter": "python",
   "pygments_lexer": "ipython3",
   "version": "3.7.6"
  }
 },
 "nbformat": 4,
 "nbformat_minor": 4
}
