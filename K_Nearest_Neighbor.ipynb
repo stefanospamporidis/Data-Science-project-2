{
 "cells": [
  {
   "cell_type": "markdown",
   "metadata": {},
   "source": [
    "#   K-Nearest Neighbor \n",
    "\n",
    "Δε χρησιμοποιήθηλε κάποια βιβλιοθήκη της sklearn , η πηγή του κώδικα μου αναφέρεται παρακάτω αλλά την βάζω και εδώ\n",
    "#https://medium.com/analytics-vidhya/implementing-k-nearest-neighbours-knn-without-using-scikit-learn-3905b4decc3c .\n",
    "Δεν έγινε η roc_plot , επίσης στο πρώτο 10 k-fold, το έκανα μόνο για 5 γιατί αργούσε πολύ δυστυχώς στο δικό μου \n",
    "υπολογιστή(3λεπτά το κάθε τρέξιμο). Το Bonus όπως και στις άλλες έτσι και εδώ βρίσκεται προς το τέλος του \n",
    "notebook."
   ]
  },
  {
   "cell_type": "code",
   "execution_count": 1,
   "metadata": {},
   "outputs": [],
   "source": [
    "import pandas as pd\n",
    "from sklearn.decomposition import TruncatedSVD\n",
    "from sklearn import datasets\n",
    "from sklearn.model_selection import GridSearchCV\n",
    "from sklearn import preprocessing\n",
    "from sklearn.metrics import accuracy_score,recall_score,f1_score,precision_score\n",
    "from sklearn.feature_extraction.text import ENGLISH_STOP_WORDS\n",
    "from sklearn.feature_extraction.text import CountVectorizer\n",
    "from sklearn.feature_extraction.text import TfidfTransformer\n",
    "from sklearn.model_selection import train_test_split\n",
    "from string import punctuation\n",
    "import matplotlib.pyplot as plt\n",
    "from sklearn.pipeline import Pipeline\n",
    "from sklearn.model_selection import cross_val_score\n",
    "from sklearn.model_selection import ShuffleSplit\n",
    "import numpy as np\n",
    "import scipy\n",
    "from math import sqrt\n",
    "from collections import Counter"
   ]
  },
  {
   "cell_type": "code",
   "execution_count": 2,
   "metadata": {},
   "outputs": [],
   "source": [
    "#eisagw ta dedomena gia sugkrisi\n",
    "data = pd.read_csv('data.tsv',sep=\"\\t\")\n",
    "X = data[\"content\"]\n",
    "#allazw ti morfi twn category apo business,tech,politics klp se ari8mous apo to 0-4\n",
    "le = preprocessing.LabelEncoder()\n",
    "le.fit(data[\"category\"])\n",
    "y = le.transform(data[\"category\"])\n",
    "X_train, X_test, y_train, y_test = train_test_split(X, y, test_size=0.2, random_state=42)"
   ]
  },
  {
   "cell_type": "code",
   "execution_count": 4,
   "metadata": {},
   "outputs": [],
   "source": [
    "#source\n",
    "#https://medium.com/analytics-vidhya/implementing-k-nearest-neighbours-knn-without-using-scikit-learn-3905b4decc3c\n",
    "class KNN:\n",
    "    def __init__(self, k = 3): #an de do8ei k stin arxikopoiisi tis KNN tote pairnei ws default timi to 5\n",
    "        self.k = k\n",
    "        \n",
    "    def fit(self, X, y):\n",
    "        self.X_train = X\n",
    "        self.y_train = y\n",
    "        \n",
    "    def euclidean_distance(self, instance1, instance2):\n",
    "        # just in case, if the instances are lists or tuples:\n",
    "        instance1 = np.array(instance1) \n",
    "        instance2 = np.array(instance2)\n",
    "        return np.linalg.norm(instance1 - instance2)\n",
    "    \n",
    "    def predict(self, X_test):\n",
    "        final_output = []\n",
    "        for i in range(len(X_test)):\n",
    "            d = []\n",
    "            votes = []\n",
    "            for j in range(len(self.X_train)):\n",
    "                dist = self.euclidean_distance(self.X_train[j] , X_test[i])\n",
    "                d.append([dist, j])\n",
    "            d.sort()\n",
    "            d = d[0:self.k]\n",
    "            for d, j in d:\n",
    "                votes.append(self.y_train[j])\n",
    "            ans = Counter(votes).most_common(1)[0][0]\n",
    "            final_output.append(ans)\n",
    "            \n",
    "        return final_output"
   ]
  },
  {
   "cell_type": "code",
   "execution_count": 5,
   "metadata": {},
   "outputs": [],
   "source": [
    "pipeline = Pipeline([ ('vect', CountVectorizer()),('tfidf', TfidfTransformer()) ,\n",
    "                     ('lsi', TruncatedSVD(n_components = 50)) ,('clf', KNN())])"
   ]
  },
  {
   "cell_type": "code",
   "execution_count": 6,
   "metadata": {},
   "outputs": [
    {
     "name": "stdout",
     "output_type": "stream",
     "text": [
      "Cross Validation results for Random Forests(RF):\n",
      "Precision: 0.8157087248714809 \n",
      "Recall: 0.8162012727467379 \n",
      "F-Measure: 0.8155122933014958 \n",
      "Accuracy: 0.8186504217432052\n"
     ]
    }
   ],
   "source": [
    "#\"taizw\" to pipeline me ta x_train,y_train\n",
    "pipeline.fit(X_train,y_train)\n",
    "\n",
    "#Predict the test split\n",
    "y_pred = pipeline.predict(X_test)\n",
    "\n",
    "precision = precision_score(y_test, y_pred, average = 'macro')\n",
    "recall = recall_score(y_test,y_pred,average = 'macro')\n",
    "f1 = f1_score(y_test,y_pred,average = 'macro')\n",
    "accuracy = accuracy_score(y_test, y_pred)\n",
    "\n",
    "print('Cross Validation results for Random Forests(RF):'),\n",
    "print('Precision:',precision,'\\nRecall:',recall,'\\nF-Measure:',f1,'\\nAccuracy:',accuracy)"
   ]
  },
  {
   "cell_type": "code",
   "execution_count": 7,
   "metadata": {},
   "outputs": [
    {
     "name": "stdout",
     "output_type": "stream",
     "text": [
      "Cross Validation results for Random Forests(RF):\n",
      "Precision: 0.800727396331762 \n",
      "Recall: 0.8013054806241557 \n",
      "F-Measure: 0.7998195946072888 \n",
      "Accuracy: 0.8025304592314901\n"
     ]
    }
   ],
   "source": [
    "precision = 0\n",
    "recall = 0\n",
    "f1 = 0\n",
    "accuracy = 0\n",
    "\n",
    "ss = ShuffleSplit(n_splits=10, test_size=0.20, random_state=42)\n",
    "#10-fold cross validation\n",
    "for train,test in ss.split(X, y):\n",
    "    X_train, X_test, y_train, y_test = X[train], X[test], y[train], y[test]\n",
    "\n",
    "    #Train the classifier with the training split\n",
    "    pipeline.fit(X_train,y_train)\n",
    "\n",
    "    #Predict the test split\n",
    "    y_pred = pipeline.predict(X_test)\n",
    "    \n",
    "    precision += precision_score(y_test, y_pred, average = 'macro')\n",
    "    recall += recall_score(y_test,y_pred,average = 'macro')\n",
    "    f1 += f1_score(y_test,y_pred,average = 'macro')\n",
    "    accuracy += accuracy_score(y_test, y_pred)\n",
    "    \n",
    "precision = precision/10\n",
    "recall = recall/10\n",
    "f1 = f1/10\n",
    "accuracy = accuracy/10\n",
    "    \n",
    "print('Cross Validation results for Random Forests(RF):'),\n",
    "print('Precision:',precision,'\\nRecall:',recall,'\\nF-Measure:',f1,'\\nAccuracy:',accuracy)"
   ]
  },
  {
   "cell_type": "markdown",
   "metadata": {},
   "source": [
    "# Bonus"
   ]
  },
  {
   "cell_type": "code",
   "execution_count": 37,
   "metadata": {},
   "outputs": [],
   "source": [
    "#Bonus K_Nearest_Neighbor\n",
    "#exw ftiaksei ena updated_dataset pou to exw ka8arisei apo perittes le3eis kai testarw gia auto tous \n",
    "#algori8mous gia na dw poso kaluteri einai i epidosi tous\n",
    "\n",
    "#eisagw ta dedomena gia sugkrisi\n",
    "data = pd.read_csv('updated_data.tsv',sep=\"\\t\")\n",
    "X = data[\"content\"]\n",
    "#allazw ti morfi twn category apo business,tech,politics klp se ari8mous apo to 0-4\n",
    "le = preprocessing.LabelEncoder()\n",
    "le.fit(data[\"category\"])\n",
    "y = le.transform(data[\"category\"])\n",
    "X_train, X_test, y_train, y_test = train_test_split(X, y, test_size=0.2, random_state=42)"
   ]
  },
  {
   "cell_type": "code",
   "execution_count": 38,
   "metadata": {},
   "outputs": [],
   "source": [
    "pipeline = Pipeline([ ('vect', CountVectorizer()),('tfidf', TfidfTransformer()) ,\n",
    "                     ('lsi', TruncatedSVD(n_components = 50)) ,('clf', KNN())])"
   ]
  },
  {
   "cell_type": "code",
   "execution_count": 39,
   "metadata": {},
   "outputs": [
    {
     "name": "stdout",
     "output_type": "stream",
     "text": [
      "Cross Validation results for Random Forests(RF):\n",
      "Precision: 0.8758401266662086 \n",
      "Recall: 0.8762572785080991 \n",
      "F-Measure: 0.8755005651713773 \n",
      "Accuracy: 0.8781630740393627\n"
     ]
    }
   ],
   "source": [
    "#\"taizw\" to pipeline me ta x_train,y_train\n",
    "pipeline.fit(X_train.values.astype(str),y_train)\n",
    "\n",
    "#Predict the test split\n",
    "y_pred = pipeline.predict(X_test.values.astype(str))\n",
    "\n",
    "precision = precision_score(y_test, y_pred, average = 'macro')\n",
    "recall = recall_score(y_test,y_pred,average = 'macro')\n",
    "f1 = f1_score(y_test,y_pred,average = 'macro')\n",
    "accuracy = accuracy_score(y_test, y_pred)\n",
    "\n",
    "print('Cross Validation results for Random Forests(RF):'),\n",
    "print('Precision:',precision,'\\nRecall:',recall,'\\nF-Measure:',f1,'\\nAccuracy:',accuracy)"
   ]
  },
  {
   "cell_type": "code",
   "execution_count": 40,
   "metadata": {},
   "outputs": [
    {
     "name": "stdout",
     "output_type": "stream",
     "text": [
      "Cross Validation results for Random Forests(RF):\n",
      "Precision: 0.8834446932430661 \n",
      "Recall: 0.8847571791475708 \n",
      "F-Measure: 0.8834490455551061 \n",
      "Accuracy: 0.8852389878163074\n"
     ]
    }
   ],
   "source": [
    "precision = 0\n",
    "recall = 0\n",
    "f1 = 0\n",
    "accuracy = 0\n",
    "\n",
    "ss = ShuffleSplit(n_splits=10, test_size=0.20, random_state=0)\n",
    "#10-fold cross validation\n",
    "for train,test in ss.split(X, y):\n",
    "    X_train, X_test, y_train, y_test = X[train], X[test], y[train], y[test]\n",
    "\n",
    "    #Train the classifier with the training split\n",
    "    pipeline.fit(X_train.values.astype(str),y_train)\n",
    "\n",
    "    #Predict the test split\n",
    "    y_pred = pipeline.predict(X_test.values.astype(str))\n",
    "    \n",
    "    precision += precision_score(y_test, y_pred, average = 'macro')\n",
    "    recall += recall_score(y_test,y_pred,average = 'macro')\n",
    "    f1 += f1_score(y_test,y_pred,average = 'macro')\n",
    "    accuracy += accuracy_score(y_test, y_pred)\n",
    "    \n",
    "precision = precision/10\n",
    "recall = recall/10\n",
    "f1 = f1/10\n",
    "accuracy = accuracy/10\n",
    "    \n",
    "print('Cross Validation results for Random Forests(RF):'),\n",
    "print('Precision:',precision,'\\nRecall:',recall,'\\nF-Measure:',f1,'\\nAccuracy:',accuracy)"
   ]
  },
  {
   "cell_type": "code",
   "execution_count": null,
   "metadata": {},
   "outputs": [],
   "source": []
  }
 ],
 "metadata": {
  "kernelspec": {
   "display_name": "Python 3",
   "language": "python",
   "name": "python3"
  },
  "language_info": {
   "codemirror_mode": {
    "name": "ipython",
    "version": 3
   },
   "file_extension": ".py",
   "mimetype": "text/x-python",
   "name": "python",
   "nbconvert_exporter": "python",
   "pygments_lexer": "ipython3",
   "version": "3.7.6"
  }
 },
 "nbformat": 4,
 "nbformat_minor": 4
}
